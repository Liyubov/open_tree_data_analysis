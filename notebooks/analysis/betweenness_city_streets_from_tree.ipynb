{
  "nbformat": 4,
  "nbformat_minor": 0,
  "metadata": {
    "colab": {
      "name": "betweenness_city_streets_from_tree.ipynb",
      "provenance": []
    },
    "kernelspec": {
      "name": "python3",
      "display_name": "Python 3"
    },
    "language_info": {
      "name": "python"
    }
  },
  "cells": [
    {
      "cell_type": "code",
      "execution_count": null,
      "metadata": {
        "id": "qtKiBbGea09m"
      },
      "outputs": [],
      "source": [
        ""
      ]
    },
    {
      "cell_type": "markdown",
      "source": [
        "Load graph\n"
      ],
      "metadata": {
        "id": "6_lm8UH0bsJ7"
      }
    },
    {
      "cell_type": "code",
      "source": [
        "# first let us convert MultiDigraph into DiGraph \n",
        "\n",
        "# Specify the name that is used to seach for the data\n",
        "import osmnx as ox\n",
        "\n",
        "place_name = 'Trastevere, Rome, Italy'  # Fetch OSM street network from the location\n",
        "graphtrastevere = ox.graph_from_place(place_name)# Get place boundary related to the place name as a geodataframe\n",
        "area = ox.geocode_to_gdf(place_name)# Plot the streets\n",
        "fig, ax = ox.plot_graph(graphtrastevere)\n",
        "\n",
        "\n",
        "#save G graph into file \n",
        "import networkx as nx\n",
        "print(type(graphtrastevere))\n",
        "\n",
        "nx.write_edgelist(graphtrastevere, \"edgestrastevere.csv\", delimiter=\" \") # edges with attributes!!!\n",
        "\n",
        "edgestrastevere = graphtrastevere.edges.data()  # default data is {} (empty dict)\n",
        "\n",
        "print((edgestrastevere))\n",
        "print(type(edgestrastevere))\n",
        "#print(edgestrastevere[0])\n",
        "\n",
        "# save edges data\n",
        "#nx.write_shp(graphtrastevere, \"graphtrastevere\")\n",
        "\n",
        "# you can similarly save it as a shapefile, if you prefer obsolete formats\n",
        "ox.save_graph_geopackage(graphtrastevere, filepath=\"graph_trastevere.gpkg\")\n",
        "\n",
        "\n",
        "# save/load graph as a graphml file: this is the best way to save your model\n",
        "# for subsequent work later\n",
        "filepath = \"graph_trastevere.graphml\"\n",
        "ox.save_graphml(graphtrastevere, filepath)\n",
        "\n",
        "\n",
        "digraph = nx.DiGraph(graphtrastevere)"
      ],
      "metadata": {
        "id": "-vqtrwf0b1Qj"
      },
      "execution_count": null,
      "outputs": []
    },
    {
      "cell_type": "markdown",
      "source": [
        "Check that all is loaded well"
      ],
      "metadata": {
        "id": "nNV-Di2lb7Su"
      }
    },
    {
      "cell_type": "code",
      "source": [
        "#from libpysal import weights, examples\n",
        "#from contextily import add_basemap\n",
        "import matplotlib.pyplot as plt\n",
        "import networkx as nx\n",
        "import numpy as np\n",
        "import geopandas\n",
        "\n",
        "# read in example data from a geopackage file. Geopackages\n",
        "# are a format for storing geographic data that is backed\n",
        "# by sqlite. geopandas reads data relying on the fiona package,\n",
        "# providing a high-level pandas-style interface to geographic data.\n",
        "graph_read = geopandas.read_file(\"edgestrastevere.csv\", delimiter =\"\\ \")#(\"graph_trastevere.gpkg\")\n",
        "\n",
        "# construct the array of coordinates for the centroid\n",
        "#coordinates = np.column_stack((graph_read.geometry.x, graph_read.geometry.y))\n",
        "\n",
        "\n",
        "graph_read.head()"
      ],
      "metadata": {
        "id": "MWJJ0yrHb5_A"
      },
      "execution_count": null,
      "outputs": []
    },
    {
      "cell_type": "markdown",
      "source": [
        "Find a node "
      ],
      "metadata": {
        "id": "7uWx9ejzb1yD"
      }
    },
    {
      "cell_type": "code",
      "source": [
        "import numpy as np\n",
        "import pandas as pd\n",
        "\n",
        "# 1. load a graph G (simple without any multigraph info) from edges of multigraph \n",
        "# save graph for the district\n",
        "#graph_simple = nx.read_edgelist(\"to_from - Sheet1(1).csv\")\n",
        "#test for edges\n",
        "edgeslist = digraph.edges()\n",
        "print(edgeslist)\n",
        "\n",
        "# 2. make a loop through all nodes of a graph G\n",
        "\n",
        "# 3. estimate source node on a graph, closest node to the tree in a graph \n",
        "\n",
        "lat_t = 41.892181 # quercia tree in rome\n",
        "lng_t = 12.464101 #41.892181, 12.464101 Botanical garden in Trastevere\n"
      ],
      "metadata": {
        "id": "aPcHse_pbtYH"
      },
      "execution_count": null,
      "outputs": []
    },
    {
      "cell_type": "code",
      "source": [
        ""
      ],
      "metadata": {
        "id": "i406fbHVa79M"
      },
      "execution_count": null,
      "outputs": []
    },
    {
      "cell_type": "markdown",
      "source": [
        "Shortest path betweenness centrality\n",
        "\n",
        "We use networkx directed betweenness centrality. We generate and save file with betweenness calculated."
      ],
      "metadata": {
        "id": "Mk4y5eTRbpcI"
      }
    },
    {
      "cell_type": "code",
      "source": [
        "nodeslist = graph_simple.nodes()\n",
        "edgeslist = graph_simple.edges()\n",
        "print(edgeslist)\n",
        "print(nodeslist)\n",
        "\n",
        "\n",
        "betweenn_edg = nx.edge_betweenness_centrality_subset(digraph, [center_node], nodeslist, normalized=False, weight=None)\n",
        "print(betweenn_edg)"
      ],
      "metadata": {
        "id": "59B-9oota8oR"
      },
      "execution_count": null,
      "outputs": []
    },
    {
      "cell_type": "code",
      "source": [
        "import numpy as np\n",
        "\n",
        "#betweenn_edg_arr = np.array(betweenn_edg)\n",
        "\n",
        "print(betweenn_edg.keys())\n",
        "\n",
        "print(type(betweenn_edg.keys()))\n",
        "print(betweenn_edg.values())\n",
        "\n",
        "weights = np.array(betweenn_edg.values())\n",
        "\n",
        "#df_weights = pd.DataFrame([weightarr], columns= ['s', 't', 'w'])\n",
        "\n",
        "#np.savetxt(\"weights_edges.csv\", weights.transpose(), delimiter=\",\")\n",
        "\n",
        "import csv\n",
        "#my_dict = {'1': 'aaa', '2': 'bbb', '3': 'ccc'}\n",
        "with open('weights_edges_trastevere.csv', 'w') as f:\n",
        "    for key in betweenn_edg.keys():\n",
        "        f.write(\"%s,%s\\n\"%(key,betweenn_edg[key]))"
      ],
      "metadata": {
        "id": "5vxqjHs1a8s6"
      },
      "execution_count": null,
      "outputs": []
    }
  ]
}